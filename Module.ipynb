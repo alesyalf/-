{
  "nbformat": 4,
  "nbformat_minor": 0,
  "metadata": {
    "colab": {
      "name": "Untitled4.ipynb",
      "provenance": [],
      "collapsed_sections": []
    },
    "kernelspec": {
      "name": "python3",
      "display_name": "Python 3"
    },
    "language_info": {
      "name": "python"
    }
  },
  "cells": [
    {
      "cell_type": "code",
      "metadata": {
        "id": "7HXn67OSlBrk"
      },
      "source": [
        "import pandas as pd"
      ],
      "execution_count": 1,
      "outputs": []
    },
    {
      "cell_type": "code",
      "metadata": {
        "colab": {
          "base_uri": "https://localhost:8080/"
        },
        "id": "_i7dtmEqlPmS",
        "outputId": "6ca2a397-2e9c-41a9-982f-fa70bb40c397"
      },
      "source": [
        "!pip install pymorphy2"
      ],
      "execution_count": 2,
      "outputs": [
        {
          "output_type": "stream",
          "text": [
            "Collecting pymorphy2\n",
            "\u001b[?25l  Downloading https://files.pythonhosted.org/packages/07/57/b2ff2fae3376d4f3c697b9886b64a54b476e1a332c67eee9f88e7f1ae8c9/pymorphy2-0.9.1-py3-none-any.whl (55kB)\n",
            "\u001b[K     |████████████████████████████████| 61kB 3.2MB/s \n",
            "\u001b[?25hCollecting pymorphy2-dicts-ru<3.0,>=2.4\n",
            "\u001b[?25l  Downloading https://files.pythonhosted.org/packages/3a/79/bea0021eeb7eeefde22ef9e96badf174068a2dd20264b9a378f2be1cdd9e/pymorphy2_dicts_ru-2.4.417127.4579844-py2.py3-none-any.whl (8.2MB)\n",
            "\u001b[K     |████████████████████████████████| 8.2MB 10.0MB/s \n",
            "\u001b[?25hCollecting dawg-python>=0.7.1\n",
            "  Downloading https://files.pythonhosted.org/packages/6a/84/ff1ce2071d4c650ec85745766c0047ccc3b5036f1d03559fd46bb38b5eeb/DAWG_Python-0.7.2-py2.py3-none-any.whl\n",
            "Requirement already satisfied: docopt>=0.6 in /usr/local/lib/python3.7/dist-packages (from pymorphy2) (0.6.2)\n",
            "Installing collected packages: pymorphy2-dicts-ru, dawg-python, pymorphy2\n",
            "Successfully installed dawg-python-0.7.2 pymorphy2-0.9.1 pymorphy2-dicts-ru-2.4.417127.4579844\n"
          ],
          "name": "stdout"
        }
      ]
    },
    {
      "cell_type": "code",
      "metadata": {
        "id": "1pzu_k3TlRZ_"
      },
      "source": [
        "import pymorphy2\n",
        "import math"
      ],
      "execution_count": 3,
      "outputs": []
    },
    {
      "cell_type": "code",
      "metadata": {
        "id": "1YfwMS_RFSSL"
      },
      "source": [
        "def change(old, new):\n",
        "  morph = pymorphy2.MorphAnalyzer()\n",
        "  if (len(new.split(' ')) == 1):\n",
        "    old_parse = morph.parse(old)[0]\n",
        "    new_parse = morph.parse(new)[0]\n",
        "    if (old_parse.tag.POS == 'NOUN' and new_parse.tag.POS == 'NOUN'):\n",
        "      pad = old_parse.tag.case\n",
        "      new = new_parse.inflect({pad}).word\n",
        "      return new\n",
        "    if (old_parse.tag.POS == 'INFN' and new_parse.tag.POS == 'INFN'):\n",
        "      return new\n",
        "    if (old_parse.tag.POS == 'INFN' and new_parse.tag.POS == 'VERB'):\n",
        "      return new_parse.normal_form\n",
        "    if (old_parse.tag.POS == 'VERB' and new_parse.tag.POS == 'INFN'):\n",
        "      time = old_parse.tag.tense\n",
        "      number = old_parse.tag.number\n",
        "      if (number == 'plur'):\n",
        "        new = new_parse.inflect({time, number}).word\n",
        "        return new\n",
        "      gender = old_parse.tag.gender\n",
        "      new = new_parse.inflect({time, number, gender}).word\n",
        "      return new\n",
        "    if (old_parse.tag.POS == 'VERB' and new_parse.tag.POS == 'VERB'):\n",
        "      time = old_parse.tag.tense\n",
        "      number = old_parse.tag.number\n",
        "      if (number == 'plur'):\n",
        "        new = new_parse.inflect({time, number}).word\n",
        "        return new\n",
        "      person = old_parse.tag.person\n",
        "      if (time == 'past'):\n",
        "        gender = old_parse.tag.gender\n",
        "        new = new_parse.inflect({time, number, gender, person}).word\n",
        "        return new\n",
        "      new = new_parse.inflect({time, number, person}).word\n",
        "      return new\n",
        "  else:\n",
        "    old_parse = morph.parse(old)[0]\n",
        "    if (old_parse.tag.POS == 'VERB'):\n",
        "      k = 0\n",
        "      for i in range (len(new.split(' '))):\n",
        "        word = new.split(' ')[i]\n",
        "        word_parse = morph.parse(word)[0]\n",
        "        if (word_parse.tag.POS == 'VERB' or word_parse.tag.POS == 'INFN'):\n",
        "          k = i\n",
        "          break\n",
        "      new_parse = morph.parse(new.split(' ')[k])[0]\n",
        "      time = old_parse.tag.tense\n",
        "      number = old_parse.tag.number\n",
        "      if (number == 'plur'):\n",
        "        new_change_word = new_parse.inflect({time, number}).word\n",
        "        split_list = new.split(' ')\n",
        "        split_list[k] = new_change_word\n",
        "        new = ' '.join(split_list)\n",
        "        return new\n",
        "      if (time == 'past'):\n",
        "        gender = old_parse.tag.gender\n",
        "        new_change_word = new_parse.inflect({time, number, gender}).word\n",
        "        split_list = new.split(' ')\n",
        "        split_list[k] = new_change_word\n",
        "        new = ' '.join(split_list)\n",
        "        return new\n",
        "      person = old_parse.tag.person\n",
        "      new_change_word = new_parse.inflect({time, number, person}).word\n",
        "      split_list = new.split(' ')\n",
        "      split_list[k] = new_change_word\n",
        "      new = ' '.join(split_list)\n",
        "      return new\n",
        "    if (old_parse.tag.POS == 'INFN'):\n",
        "      k = 0\n",
        "      for i in range (len(new.split(' '))):\n",
        "        word = new.split(' ')[i]\n",
        "        word_parse = morph.parse(word)[0]\n",
        "        if (word_parse.tag.POS == 'INFN'):\n",
        "          return new\n",
        "        if (word_parse.tag.POS == 'VERB'):\n",
        "          k = i\n",
        "          break\n",
        "      new_parse = morph.parse(new.split(' ')[k])[0]\n",
        "      new_change_word = new_parse.normal_form\n",
        "      split_list = new.split(' ')\n",
        "      split_list[k] = new_change_word\n",
        "      new = ' '.join(split_list)\n",
        "      return new\n",
        "    if (old_parse.tag.POS == 'NOUN'):\n",
        "      k = 0\n",
        "      for i in range (len(new.split(' '))):\n",
        "        word = new.split(' ')[i]\n",
        "        word_parse = morph.parse(word)[0]\n",
        "        if (word_parse.tag.POS == 'NOUN'):\n",
        "          k = i\n",
        "          break\n",
        "      pad = old_parse.tag.case\n",
        "      new_parse = morph.parse(new.split(' ')[k])[0]\n",
        "      new_change_word = new_parse.inflect({pad}).word\n",
        "      if (k != 0):\n",
        "        new_parse_adj = morph.parse(new.split(' ')[k-1])[0]\n",
        "        new_change_word_adj = new_parse_adj.inflect({pad}).word\n",
        "        split_list = new.split(' ')\n",
        "        split_list[k-1] = new_change_word_adj\n",
        "        split_list[k] = new_change_word\n",
        "        new = ' '.join(split_list)\n",
        "        return new\n",
        "      split_list = new.split(' ')\n",
        "      split_list[k] = new_change_word\n",
        "      new = ' '.join(split_list)\n",
        "      return new"
      ],
      "execution_count": 93,
      "outputs": []
    },
    {
      "cell_type": "code",
      "metadata": {
        "id": "7K1KXLxcuDOu"
      },
      "source": [
        "class Tree():\n",
        "    def __init__(self,root):\n",
        "        self.root = root\n",
        "        self.children = []\n",
        "        self.Nodes = []\n",
        "\n",
        "    def addNode(self,obj):\n",
        "        self.children.append(obj)\n",
        "\n",
        "    def changeAll(self):\n",
        "      for child in self.children:\n",
        "        child.changePattern()\n",
        "      for child in self.children:\n",
        "        if child.changeChildNodes() != None:\n",
        "          child.getChildNodes()\n",
        "        \n",
        "    def getAllNodes(self):\n",
        "        self.Nodes.append(self.root)\n",
        "        for child in self.children:\n",
        "            self.Nodes.append(child.data)\n",
        "        for child in self.children:\n",
        "            if child.getChildNodes(self.Nodes) != None:\n",
        "                child.getChildNodes(self.Nodes)\n",
        "        print(*self.Nodes, sep = \"\\n\")\n",
        "        print('Tree Size:' + str(len(self.Nodes)))"
      ],
      "execution_count": 124,
      "outputs": []
    },
    {
      "cell_type": "code",
      "metadata": {
        "id": "SIgNp5p3mNDl"
      },
      "source": [
        "class Node():\n",
        "    def __init__(self, data, template):\n",
        "        self.data = data\n",
        "        self.template = template\n",
        "        self.arg = self.findArg(data)\n",
        "        self.children = []\n",
        "\n",
        "    def findArg(self, data):\n",
        "      start = finish = 0\n",
        "      for i in range(len(data)):\n",
        "        if data[i] == '$' and start == 0:\n",
        "          start = i + 1\n",
        "          continue\n",
        "        if data[i] == '$' and start != 0 and finish == 0:\n",
        "          finish = i\n",
        "          break\n",
        "      return data[start:finish]\n",
        "\n",
        "    def addNode(self,obj):\n",
        "        self.children.append(obj)\n",
        "\n",
        "    def changePattern(self):\n",
        "      res = change(self.arg, self.template)\n",
        "      start = finish = 0\n",
        "      for i in range(len(self.data)):\n",
        "        if self.data[i] == '$' and start == 0:\n",
        "          start = i + 1\n",
        "          continue\n",
        "        if self.data[i] == '$' and start != 0 and finish == 0:\n",
        "          finish = i\n",
        "          break\n",
        "      final = self.data[:start] + res + self.data[finish:]\n",
        "      self.data = final\n",
        "      #print(self.data)\n",
        "\n",
        "    def getChildNodes(self,Tree):\n",
        "        for child in self.children:\n",
        "            if child.children:\n",
        "                child.getChildNodes(Tree)\n",
        "                Tree.append(child.data)\n",
        "            else:\n",
        "                Tree.append(child.data)\n",
        "\n",
        "    def changeChildNodes(self):\n",
        "        for child in self.children:\n",
        "            if child.children:\n",
        "                child.getChildNodes()\n",
        "                child.changePattern()\n",
        "            else:\n",
        "                child.changePattern()"
      ],
      "execution_count": 125,
      "outputs": []
    },
    {
      "cell_type": "code",
      "metadata": {
        "colab": {
          "base_uri": "https://localhost:8080/"
        },
        "id": "Kg4fz0v3vq2p",
        "outputId": "ccb36f47-2a11-4f1c-f2d9-a80d3b929a0b"
      },
      "source": [
        "MyTree = Tree('Работаю утром')\n",
        "MyTree.addNode(Node('Ем на $завтрак$ кашу', 'обед'))\n",
        "MyTree.addNode(Node('Смотрю с утра $новости$', 'фильм'))\n",
        "MyTree.addNode(Node('Подруга $ходила$ в магазин', 'поехать'))\n",
        "MyTree.children[0].addNode(Node('Ем на $завтрак$ кашу', 'ужин'))\n",
        "MyTree.getAllNodes()"
      ],
      "execution_count": 126,
      "outputs": [
        {
          "output_type": "stream",
          "text": [
            "Работаю утром\n",
            "Ем на $завтрак$ кашу\n",
            "Смотрю с утра $новости$\n",
            "Подруга $ходила$ в магазин\n",
            "Ем на $завтрак$ кашу\n",
            "Tree Size:5\n"
          ],
          "name": "stdout"
        }
      ]
    },
    {
      "cell_type": "code",
      "metadata": {
        "colab": {
          "base_uri": "https://localhost:8080/"
        },
        "id": "c1XW9ifa9f4u",
        "outputId": "781a6f19-3c02-49d5-f60c-37293da8bdfc"
      },
      "source": [
        "MyTree.changeAll()\n",
        "MyTree.getAllNodes()"
      ],
      "execution_count": 127,
      "outputs": [
        {
          "output_type": "stream",
          "text": [
            "Работаю утром\n",
            "Ем на $завтрак$ кашу\n",
            "Смотрю с утра $новости$\n",
            "Подруга $ходила$ в магазин\n",
            "Ем на $завтрак$ кашу\n",
            "Работаю утром\n",
            "Ем на $обед$ кашу\n",
            "Смотрю с утра $фильм$\n",
            "Подруга $поехала$ в магазин\n",
            "Ем на $ужин$ кашу\n",
            "Tree Size:10\n"
          ],
          "name": "stdout"
        }
      ]
    }
  ]
}