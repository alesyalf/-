{
  "nbformat": 4,
  "nbformat_minor": 0,
  "metadata": {
    "colab": {
      "name": "Module_new_version.ipynb",
      "provenance": [],
      "collapsed_sections": []
    },
    "kernelspec": {
      "name": "python3",
      "display_name": "Python 3"
    },
    "language_info": {
      "name": "python"
    }
  },
  "cells": [
    {
      "cell_type": "code",
      "metadata": {
        "id": "7HXn67OSlBrk"
      },
      "source": [
        "import pandas as pd"
      ],
      "execution_count": 1,
      "outputs": []
    },
    {
      "cell_type": "code",
      "metadata": {
        "colab": {
          "base_uri": "https://localhost:8080/"
        },
        "id": "_i7dtmEqlPmS",
        "outputId": "884215e5-77d0-4a40-c5dd-520fc7298ed8"
      },
      "source": [
        "!pip install pymorphy2"
      ],
      "execution_count": 2,
      "outputs": [
        {
          "output_type": "stream",
          "text": [
            "Collecting pymorphy2\n",
            "\u001b[?25l  Downloading https://files.pythonhosted.org/packages/07/57/b2ff2fae3376d4f3c697b9886b64a54b476e1a332c67eee9f88e7f1ae8c9/pymorphy2-0.9.1-py3-none-any.whl (55kB)\n",
            "\u001b[K     |████████████████████████████████| 61kB 2.4MB/s \n",
            "\u001b[?25hCollecting dawg-python>=0.7.1\n",
            "  Downloading https://files.pythonhosted.org/packages/6a/84/ff1ce2071d4c650ec85745766c0047ccc3b5036f1d03559fd46bb38b5eeb/DAWG_Python-0.7.2-py2.py3-none-any.whl\n",
            "Collecting pymorphy2-dicts-ru<3.0,>=2.4\n",
            "\u001b[?25l  Downloading https://files.pythonhosted.org/packages/3a/79/bea0021eeb7eeefde22ef9e96badf174068a2dd20264b9a378f2be1cdd9e/pymorphy2_dicts_ru-2.4.417127.4579844-py2.py3-none-any.whl (8.2MB)\n",
            "\u001b[K     |████████████████████████████████| 8.2MB 5.3MB/s \n",
            "\u001b[?25hRequirement already satisfied: docopt>=0.6 in /usr/local/lib/python3.7/dist-packages (from pymorphy2) (0.6.2)\n",
            "Installing collected packages: dawg-python, pymorphy2-dicts-ru, pymorphy2\n",
            "Successfully installed dawg-python-0.7.2 pymorphy2-0.9.1 pymorphy2-dicts-ru-2.4.417127.4579844\n"
          ],
          "name": "stdout"
        }
      ]
    },
    {
      "cell_type": "code",
      "metadata": {
        "id": "1pzu_k3TlRZ_"
      },
      "source": [
        "import pymorphy2\n",
        "import math"
      ],
      "execution_count": 3,
      "outputs": []
    },
    {
      "cell_type": "code",
      "metadata": {
        "id": "1YfwMS_RFSSL"
      },
      "source": [
        "def change(old, new):\n",
        "  morph = pymorphy2.MorphAnalyzer()\n",
        "  if (len(new.split(' ')) == 1):\n",
        "    old_parse = morph.parse(old)[0]\n",
        "    new_parse = morph.parse(new)[0]\n",
        "    if (old_parse.tag.POS == 'NOUN' and new_parse.tag.POS == 'NOUN'):\n",
        "      pad = old_parse.tag.case\n",
        "      new = new_parse.inflect({pad}).word\n",
        "      return new\n",
        "    if (old_parse.tag.POS == 'INFN' and new_parse.tag.POS == 'INFN'):\n",
        "      return new\n",
        "    if (old_parse.tag.POS == 'INFN' and new_parse.tag.POS == 'VERB'):\n",
        "      return new_parse.normal_form\n",
        "    if (old_parse.tag.POS == 'VERB' and new_parse.tag.POS == 'INFN'):\n",
        "      time = old_parse.tag.tense\n",
        "      number = old_parse.tag.number\n",
        "      if (number == 'plur'):\n",
        "        new = new_parse.inflect({time, number}).word\n",
        "        return new\n",
        "      gender = old_parse.tag.gender\n",
        "      new = new_parse.inflect({time, number, gender}).word\n",
        "      return new\n",
        "    if (old_parse.tag.POS == 'VERB' and new_parse.tag.POS == 'VERB'):\n",
        "      time = old_parse.tag.tense\n",
        "      number = old_parse.tag.number\n",
        "      if (number == 'plur'):\n",
        "        new = new_parse.inflect({time, number}).word\n",
        "        return new\n",
        "      person = old_parse.tag.person\n",
        "      if (time == 'past'):\n",
        "        gender = old_parse.tag.gender\n",
        "        new = new_parse.inflect({time, number, gender, person}).word\n",
        "        return new\n",
        "      new = new_parse.inflect({time, number, person}).word\n",
        "      return new\n",
        "  else:\n",
        "    old_parse = morph.parse(old.split(' ')[0])[0]\n",
        "    if (old_parse.tag.POS == 'VERB'):\n",
        "      verb_positions = []\n",
        "      for i in range (len(new.split(' '))):\n",
        "        word = new.split(' ')[i]\n",
        "        word_parse = morph.parse(word)[0]\n",
        "        if (word_parse.tag.POS == 'VERB' or word_parse.tag.POS == 'INFN'):\n",
        "          verb_positions.append(i)\n",
        "      for k in verb_positions:\n",
        "        new_parse = morph.parse(new.split(' ')[k])[0]\n",
        "        time = old_parse.tag.tense\n",
        "        number = old_parse.tag.number\n",
        "        if (number == 'plur'):\n",
        "          new_change_word = new_parse.inflect({time, number}).word\n",
        "          split_list = new.split(' ')\n",
        "          split_list[k] = new_change_word\n",
        "          new = ' '.join(split_list)\n",
        "          continue\n",
        "        if (time == 'past'):\n",
        "          gender = old_parse.tag.gender\n",
        "          new_change_word = new_parse.inflect({time, number, gender}).word\n",
        "          split_list = new.split(' ')\n",
        "          split_list[k] = new_change_word\n",
        "          new = ' '.join(split_list)\n",
        "          continue\n",
        "        person = old_parse.tag.person\n",
        "        new_change_word = new_parse.inflect({time, number, person}).word\n",
        "        split_list = new.split(' ')\n",
        "        split_list[k] = new_change_word\n",
        "        new = ' '.join(split_list)\n",
        "      return new\n",
        "    if (old_parse.tag.POS == 'INFN'):\n",
        "      k = 0\n",
        "      for i in range (len(new.split(' '))):\n",
        "        word = new.split(' ')[i]\n",
        "        word_parse = morph.parse(word)[0]\n",
        "        if (word_parse.tag.POS == 'INFN'):\n",
        "          return new\n",
        "        if (word_parse.tag.POS == 'VERB'):\n",
        "          k = i\n",
        "          break\n",
        "      new_parse = morph.parse(new.split(' ')[k])[0]\n",
        "      new_change_word = new_parse.normal_form\n",
        "      split_list = new.split(' ')\n",
        "      split_list[k] = new_change_word\n",
        "      new = ' '.join(split_list)\n",
        "      return new\n",
        "    if (old_parse.tag.POS == 'NOUN'):\n",
        "      noun_positions = []\n",
        "      for i in range (len(new.split(' '))):\n",
        "        word = new.split(' ')[i]\n",
        "        word_parse = morph.parse(word)[0]\n",
        "        if (word_parse.tag.POS == 'NOUN'):\n",
        "          noun_positions.append(i)\n",
        "      if (new.split(' ')[1] == 'и' or new.split(' ')[1] == 'или'):\n",
        "        for k in noun_positions:\n",
        "          pad = old_parse.tag.case\n",
        "          number = old_parse.tag.number\n",
        "          new_parse = morph.parse(new.split(' ')[k])[0]\n",
        "          new_change_word = new_parse.inflect({pad, number}).word\n",
        "          split_list = new.split(' ')\n",
        "          split_list[k] = new_change_word\n",
        "          new = ' '.join(split_list)\n",
        "        return new\n",
        "      else:\n",
        "        pad = old_parse.tag.case\n",
        "        number = old_parse.tag.number\n",
        "        new_parse = morph.parse(new.split(' ')[0])[0]\n",
        "        new_change_word = new_parse.inflect({pad, number}).word\n",
        "        split_list = new.split(' ')\n",
        "        split_list[0] = new_change_word\n",
        "        new = ' '.join(split_list)\n",
        "      return new"
      ],
      "execution_count": 118,
      "outputs": []
    },
    {
      "cell_type": "code",
      "metadata": {
        "colab": {
          "base_uri": "https://localhost:8080/",
          "height": 89
        },
        "id": "yr7YfkFTBzhh",
        "outputId": "128c5c0f-d575-41ec-affe-e6caf735418d"
      },
      "source": [
        "change('Предоставлению со стороны субъектов отчетности о выбросах ПГ', 'Оценка альтернатив блоков ЖЦ ВЭС')"
      ],
      "execution_count": 109,
      "outputs": [
        {
          "output_type": "stream",
          "text": [
            "['П']\n",
            "here\n",
            "datv\n"
          ],
          "name": "stdout"
        },
        {
          "output_type": "execute_result",
          "data": {
            "application/vnd.google.colaboratory.intrinsic+json": {
              "type": "string"
            },
            "text/plain": [
              "'оценке альтернатив блоков ЖЦ ВЭС'"
            ]
          },
          "metadata": {
            "tags": []
          },
          "execution_count": 109
        }
      ]
    },
    {
      "cell_type": "code",
      "metadata": {
        "id": "7K1KXLxcuDOu"
      },
      "source": [
        "class Tree():\n",
        "    def __init__(self,root):\n",
        "        self.root = root\n",
        "        self.children = []\n",
        "        self.Nodes = []\n",
        "\n",
        "    def addNode(self,obj):\n",
        "        self.children.append(obj)\n",
        "\n",
        "    def changeAll(self):\n",
        "      for child in self.children:\n",
        "        child.changePattern()\n",
        "      for child in self.children:\n",
        "        if child.changeChildNodes() != None:\n",
        "          child.getChildNodes()\n",
        "        \n",
        "    def getAllNodes(self):\n",
        "        self.Nodes.append(self.root)\n",
        "        for child in self.children:\n",
        "            self.Nodes.append(child.data)\n",
        "        for child in self.children:\n",
        "            if child.getChildNodes(self.Nodes) != None:\n",
        "                child.getChildNodes(self.Nodes)\n",
        "        print(*self.Nodes, sep = \"\\n\")\n",
        "        print('Tree Size:' + str(len(self.Nodes)))"
      ],
      "execution_count": 5,
      "outputs": []
    },
    {
      "cell_type": "code",
      "metadata": {
        "id": "SIgNp5p3mNDl"
      },
      "source": [
        "class Node():\n",
        "    def __init__(self, data, template):\n",
        "        self.data = data\n",
        "        self.template = template\n",
        "        self.arg = self.findArg(data)\n",
        "        self.children = []\n",
        "\n",
        "    def findArg(self, data):\n",
        "      start = finish = 0\n",
        "      for i in range(len(data)):\n",
        "        if data[i] == '$' and start == 0:\n",
        "          start = i + 1\n",
        "          continue\n",
        "        if data[i] == '$' and start != 0 and finish == 0:\n",
        "          finish = i\n",
        "          break\n",
        "      return data[start:finish]\n",
        "\n",
        "    def addNode(self,obj):\n",
        "        self.children.append(obj)\n",
        "\n",
        "    def changePattern(self):\n",
        "      res = change(self.arg, self.template)\n",
        "      start = finish = 0\n",
        "      for i in range(len(self.data)):\n",
        "        if self.data[i] == '$' and start == 0:\n",
        "          start = i + 1\n",
        "          continue\n",
        "        if self.data[i] == '$' and start != 0 and finish == 0:\n",
        "          finish = i\n",
        "          break\n",
        "      final = self.data[:start] + res + self.data[finish:]\n",
        "      self.data = final\n",
        "      #print(self.data)\n",
        "\n",
        "    def getChildNodes(self,Tree):\n",
        "        for child in self.children:\n",
        "            if child.children:\n",
        "                child.getChildNodes(Tree)\n",
        "                Tree.append(child.data)\n",
        "            else:\n",
        "                Tree.append(child.data)\n",
        "\n",
        "    def changeChildNodes(self):\n",
        "        for child in self.children:\n",
        "            if child.children:\n",
        "                child.getChildNodes()\n",
        "                child.changePattern()\n",
        "            else:\n",
        "                child.changePattern()"
      ],
      "execution_count": 6,
      "outputs": []
    },
    {
      "cell_type": "code",
      "metadata": {
        "colab": {
          "base_uri": "https://localhost:8080/"
        },
        "id": "fiPhQeOWnlPm",
        "outputId": "772c7ef3-c498-48d6-a0aa-d62061fe5254"
      },
      "source": [
        "MyTree = Tree('Новая схема')\n",
        "MyTree.addNode(Node('Даю $апельсины и яблоки$ другу', 'картошка и морковь'))\n",
        "MyTree.addNode(Node('Смотрю с утра $новости$', 'фильм'))\n",
        "MyTree.addNode(Node('Перейти к  $Предоставлению со стороны субъектов отчетности о выбросах ПГ$', 'Оценка альтернатив блоков ЖЦ ВЭС'))\n",
        "MyTree.children[0].addNode(Node('$Составление перечней альтернативных процессов ЖЦ ВЭС и их описаний$', 'Формированиями требований к итоговым процессам ЖЦ ВЭС от потребляющих их выход процессов'))\n",
        "MyTree.changeAll()\n",
        "MyTree.getAllNodes()"
      ],
      "execution_count": 119,
      "outputs": [
        {
          "output_type": "stream",
          "text": [
            "Новая схема\n",
            "Даю $картошки и моркови$ другу\n",
            "Смотрю с утра $фильм$\n",
            "Перейти к  $оценке альтернатив блоков ЖЦ ВЭС$\n",
            "$формирование требований к итоговым процессам ЖЦ ВЭС от потребляющих их выход процессов$\n",
            "Tree Size:5\n"
          ],
          "name": "stdout"
        }
      ]
    }
  ]
}